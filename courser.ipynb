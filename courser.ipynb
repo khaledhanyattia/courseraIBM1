{
 "cells": [
  {
   "cell_type": "code",
   "execution_count": 53,
   "id": "e90c044d",
   "metadata": {},
   "outputs": [],
   "source": [
    "\n",
    "import yfinance as yf\n",
    "import pandas as pd\n",
    "import requests\n",
    "from bs4 import BeautifulSoup\n",
    "import matplotlib.pyplot as plt\n",
    "import requests\n",
    "import plotly.graph_objects as go\n",
    "import matplotlib.pyplot as plt\n",
    "\n",
    "\n",
    "\n"
   ]
  },
  {
   "cell_type": "code",
   "execution_count": 71,
   "id": "7fe261fa",
   "metadata": {},
   "outputs": [
    {
     "data": {
      "application/vnd.microsoft.datawrangler.viewer.v0+json": {
       "columns": [
        {
         "name": "index",
         "rawType": "int64",
         "type": "integer"
        },
        {
         "name": "Date",
         "rawType": "datetime64[ns, America/New_York]",
         "type": "unknown"
        },
        {
         "name": "Open",
         "rawType": "float64",
         "type": "float"
        },
        {
         "name": "High",
         "rawType": "float64",
         "type": "float"
        },
        {
         "name": "Low",
         "rawType": "float64",
         "type": "float"
        },
        {
         "name": "Close",
         "rawType": "float64",
         "type": "float"
        },
        {
         "name": "Volume",
         "rawType": "int64",
         "type": "integer"
        },
        {
         "name": "Dividends",
         "rawType": "float64",
         "type": "float"
        },
        {
         "name": "Stock Splits",
         "rawType": "float64",
         "type": "float"
        }
       ],
       "ref": "d93329a2-b44f-461a-b9f6-24a73810d73d",
       "rows": [
        [
         "0",
         "2010-06-29 00:00:00-04:00",
         "1.2666670083999634",
         "1.6666669845581055",
         "1.1693329811096191",
         "1.5926669836044312",
         "281494500",
         "0.0",
         "0.0"
        ],
        [
         "1",
         "2010-06-30 00:00:00-04:00",
         "1.7193330526351929",
         "2.0280001163482666",
         "1.553333044052124",
         "1.5886670351028442",
         "257806500",
         "0.0",
         "0.0"
        ],
        [
         "2",
         "2010-07-01 00:00:00-04:00",
         "1.6666669845581055",
         "1.7280000448226929",
         "1.3513330221176147",
         "1.4639999866485596",
         "123282000",
         "0.0",
         "0.0"
        ],
        [
         "3",
         "2010-07-02 00:00:00-04:00",
         "1.5333329439163208",
         "1.5399999618530273",
         "1.24733304977417",
         "1.2799999713897705",
         "77097000",
         "0.0",
         "0.0"
        ],
        [
         "4",
         "2010-07-06 00:00:00-04:00",
         "1.3333330154418945",
         "1.3333330154418945",
         "1.0553330183029175",
         "1.0740000009536743",
         "103003500",
         "0.0",
         "0.0"
        ]
       ],
       "shape": {
        "columns": 8,
        "rows": 5
       }
      },
      "text/html": [
       "<div>\n",
       "<style scoped>\n",
       "    .dataframe tbody tr th:only-of-type {\n",
       "        vertical-align: middle;\n",
       "    }\n",
       "\n",
       "    .dataframe tbody tr th {\n",
       "        vertical-align: top;\n",
       "    }\n",
       "\n",
       "    .dataframe thead th {\n",
       "        text-align: right;\n",
       "    }\n",
       "</style>\n",
       "<table border=\"1\" class=\"dataframe\">\n",
       "  <thead>\n",
       "    <tr style=\"text-align: right;\">\n",
       "      <th></th>\n",
       "      <th>Date</th>\n",
       "      <th>Open</th>\n",
       "      <th>High</th>\n",
       "      <th>Low</th>\n",
       "      <th>Close</th>\n",
       "      <th>Volume</th>\n",
       "      <th>Dividends</th>\n",
       "      <th>Stock Splits</th>\n",
       "    </tr>\n",
       "  </thead>\n",
       "  <tbody>\n",
       "    <tr>\n",
       "      <th>0</th>\n",
       "      <td>2010-06-29 00:00:00-04:00</td>\n",
       "      <td>1.266667</td>\n",
       "      <td>1.666667</td>\n",
       "      <td>1.169333</td>\n",
       "      <td>1.592667</td>\n",
       "      <td>281494500</td>\n",
       "      <td>0.0</td>\n",
       "      <td>0.0</td>\n",
       "    </tr>\n",
       "    <tr>\n",
       "      <th>1</th>\n",
       "      <td>2010-06-30 00:00:00-04:00</td>\n",
       "      <td>1.719333</td>\n",
       "      <td>2.028000</td>\n",
       "      <td>1.553333</td>\n",
       "      <td>1.588667</td>\n",
       "      <td>257806500</td>\n",
       "      <td>0.0</td>\n",
       "      <td>0.0</td>\n",
       "    </tr>\n",
       "    <tr>\n",
       "      <th>2</th>\n",
       "      <td>2010-07-01 00:00:00-04:00</td>\n",
       "      <td>1.666667</td>\n",
       "      <td>1.728000</td>\n",
       "      <td>1.351333</td>\n",
       "      <td>1.464000</td>\n",
       "      <td>123282000</td>\n",
       "      <td>0.0</td>\n",
       "      <td>0.0</td>\n",
       "    </tr>\n",
       "    <tr>\n",
       "      <th>3</th>\n",
       "      <td>2010-07-02 00:00:00-04:00</td>\n",
       "      <td>1.533333</td>\n",
       "      <td>1.540000</td>\n",
       "      <td>1.247333</td>\n",
       "      <td>1.280000</td>\n",
       "      <td>77097000</td>\n",
       "      <td>0.0</td>\n",
       "      <td>0.0</td>\n",
       "    </tr>\n",
       "    <tr>\n",
       "      <th>4</th>\n",
       "      <td>2010-07-06 00:00:00-04:00</td>\n",
       "      <td>1.333333</td>\n",
       "      <td>1.333333</td>\n",
       "      <td>1.055333</td>\n",
       "      <td>1.074000</td>\n",
       "      <td>103003500</td>\n",
       "      <td>0.0</td>\n",
       "      <td>0.0</td>\n",
       "    </tr>\n",
       "  </tbody>\n",
       "</table>\n",
       "</div>"
      ],
      "text/plain": [
       "                       Date      Open      High       Low     Close  \\\n",
       "0 2010-06-29 00:00:00-04:00  1.266667  1.666667  1.169333  1.592667   \n",
       "1 2010-06-30 00:00:00-04:00  1.719333  2.028000  1.553333  1.588667   \n",
       "2 2010-07-01 00:00:00-04:00  1.666667  1.728000  1.351333  1.464000   \n",
       "3 2010-07-02 00:00:00-04:00  1.533333  1.540000  1.247333  1.280000   \n",
       "4 2010-07-06 00:00:00-04:00  1.333333  1.333333  1.055333  1.074000   \n",
       "\n",
       "      Volume  Dividends  Stock Splits  \n",
       "0  281494500        0.0           0.0  \n",
       "1  257806500        0.0           0.0  \n",
       "2  123282000        0.0           0.0  \n",
       "3   77097000        0.0           0.0  \n",
       "4  103003500        0.0           0.0  "
      ]
     },
     "execution_count": 71,
     "metadata": {},
     "output_type": "execute_result"
    }
   ],
   "source": [
    "# ========================================================\n",
    "# Question 1: Use yfinance to Extract Tesla Stock Data\n",
    "# ========================================================\n",
    "\n",
    "TSLA = yf.Ticker(\"TSLA\")\n",
    "tsla_data = TSLA.history(period=\"max\")\n",
    "\n",
    "tsla_data.reset_index(inplace=True)\n",
    "tsla_data.head() "
   ]
  },
  {
   "cell_type": "code",
   "execution_count": null,
   "id": "d3884a24",
   "metadata": {},
   "outputs": [
    {
     "name": "stdout",
     "output_type": "stream",
     "text": [
      "        Open    High     Low   Close       Volume  Dividends  Stock Splits  \\\n",
      "3842  109.00  122.18   90.11   91.84  488,193,200        NaN           NaN   \n",
      "3843  124.47  133.27  113.85  114.38  319,939,200        NaN           NaN   \n",
      "3844  109.20  126.60  101.86  123.33  320,321,800        NaN           NaN   \n",
      "3845  102.91  115.83   96.26  108.38  446,204,400        NaN           NaN   \n",
      "3846  109.35  111.24   93.55  103.26  497,401,200        NaN           NaN   \n",
      "\n",
      "              Date Adj Close  \n",
      "3842  Jan 01, 2016     91.84  \n",
      "3843  Dec 01, 2015    114.38  \n",
      "3844  Nov 01, 2015    123.33  \n",
      "3845  Oct 01, 2015    108.38  \n",
      "3846  Sep 01, 2015    103.26  \n"
     ]
    }
   ],
   "source": [
    "# ========================================================\n",
    "# Question 2: Use Webscraping to Extract TESLA Revenue Data\n",
    "# ========================================================\n",
    "\n",
    "url_gme = \"https://www.macrotrends.net/stocks/charts/GME/gamestop/revenue\"\n",
    "html_gme = requests.get(url_gme).text\n",
    "soup_tsla = BeautifulSoup(html_gme, \"html.parser\")\n",
    "\n",
    "Gamestop_data = pd.DataFrame(columns=[\"Date\", \"Open\", \"High\", \"Low\", \"Close\", \"Volume\"])\n",
    "\n",
    "\n",
    "\n",
    "for row in soup_tsla(\"tbody\").find_all('tr'):\n",
    "    col = row.find_all(\"td\")\n",
    "    date = col[0].text\n",
    "    Open = col[1].text\n",
    "    high = col[2].text\n",
    "    low = col[3].text\n",
    "    close = col[4].text\n",
    "    adj_close = col[5].text\n",
    "    volume = col[6].text\n",
    "    \n",
    "    # Finally we append the data of each row to the table\n",
    "    tesla_data = pd.concat([tesla_data,pd.DataFrame({\"Date\":[date], \"Open\":[Open], \"High\":[high], \"Low\":[low], \"Close\":[close], \"Adj Close\":[adj_close], \"Volume\":[volume]})], ignore_index=True)    \n",
    "\n",
    "print(tesla_data.tail())\n"
   ]
  },
  {
   "cell_type": "code",
   "execution_count": 36,
   "id": "4ec24065",
   "metadata": {},
   "outputs": [
    {
     "data": {
      "application/vnd.microsoft.datawrangler.viewer.v0+json": {
       "columns": [
        {
         "name": "index",
         "rawType": "int64",
         "type": "integer"
        },
        {
         "name": "Date",
         "rawType": "datetime64[ns, America/New_York]",
         "type": "unknown"
        },
        {
         "name": "Open",
         "rawType": "float64",
         "type": "float"
        },
        {
         "name": "High",
         "rawType": "float64",
         "type": "float"
        },
        {
         "name": "Low",
         "rawType": "float64",
         "type": "float"
        },
        {
         "name": "Close",
         "rawType": "float64",
         "type": "float"
        },
        {
         "name": "Volume",
         "rawType": "int64",
         "type": "integer"
        },
        {
         "name": "Dividends",
         "rawType": "float64",
         "type": "float"
        },
        {
         "name": "Stock Splits",
         "rawType": "float64",
         "type": "float"
        }
       ],
       "ref": "7a12a70c-1d74-4e2e-ba7a-a1b3bc4bc533",
       "rows": [
        [
         "0",
         "2002-02-13 00:00:00-05:00",
         "1.620128432409022",
         "1.693349891934307",
         "1.6032958650042581",
         "1.691666603088379",
         "76216000",
         "0.0",
         "0.0"
        ],
        [
         "1",
         "2002-02-14 00:00:00-05:00",
         "1.7127073418283545",
         "1.7160737592086661",
         "1.670626081147202",
         "1.6832504272460938",
         "11021600",
         "0.0",
         "0.0"
        ],
        [
         "2",
         "2002-02-15 00:00:00-05:00",
         "1.6832498173402146",
         "1.6874578776726805",
         "1.6580011342909962",
         "1.6748335361480713",
         "8389600",
         "0.0",
         "0.0"
        ],
        [
         "3",
         "2002-02-19 00:00:00-05:00",
         "1.666417919400072",
         "1.666417919400072",
         "1.5780473329649454",
         "1.6075042486190796",
         "7410400",
         "0.0",
         "0.0"
        ],
        [
         "4",
         "2002-02-20 00:00:00-05:00",
         "1.6159199644531743",
         "1.6622092723846436",
         "1.6032954618107558",
         "1.6622092723846436",
         "6892800",
         "0.0",
         "0.0"
        ]
       ],
       "shape": {
        "columns": 8,
        "rows": 5
       }
      },
      "text/html": [
       "<div>\n",
       "<style scoped>\n",
       "    .dataframe tbody tr th:only-of-type {\n",
       "        vertical-align: middle;\n",
       "    }\n",
       "\n",
       "    .dataframe tbody tr th {\n",
       "        vertical-align: top;\n",
       "    }\n",
       "\n",
       "    .dataframe thead th {\n",
       "        text-align: right;\n",
       "    }\n",
       "</style>\n",
       "<table border=\"1\" class=\"dataframe\">\n",
       "  <thead>\n",
       "    <tr style=\"text-align: right;\">\n",
       "      <th></th>\n",
       "      <th>Date</th>\n",
       "      <th>Open</th>\n",
       "      <th>High</th>\n",
       "      <th>Low</th>\n",
       "      <th>Close</th>\n",
       "      <th>Volume</th>\n",
       "      <th>Dividends</th>\n",
       "      <th>Stock Splits</th>\n",
       "    </tr>\n",
       "  </thead>\n",
       "  <tbody>\n",
       "    <tr>\n",
       "      <th>0</th>\n",
       "      <td>2002-02-13 00:00:00-05:00</td>\n",
       "      <td>1.620128</td>\n",
       "      <td>1.693350</td>\n",
       "      <td>1.603296</td>\n",
       "      <td>1.691667</td>\n",
       "      <td>76216000</td>\n",
       "      <td>0.0</td>\n",
       "      <td>0.0</td>\n",
       "    </tr>\n",
       "    <tr>\n",
       "      <th>1</th>\n",
       "      <td>2002-02-14 00:00:00-05:00</td>\n",
       "      <td>1.712707</td>\n",
       "      <td>1.716074</td>\n",
       "      <td>1.670626</td>\n",
       "      <td>1.683250</td>\n",
       "      <td>11021600</td>\n",
       "      <td>0.0</td>\n",
       "      <td>0.0</td>\n",
       "    </tr>\n",
       "    <tr>\n",
       "      <th>2</th>\n",
       "      <td>2002-02-15 00:00:00-05:00</td>\n",
       "      <td>1.683250</td>\n",
       "      <td>1.687458</td>\n",
       "      <td>1.658001</td>\n",
       "      <td>1.674834</td>\n",
       "      <td>8389600</td>\n",
       "      <td>0.0</td>\n",
       "      <td>0.0</td>\n",
       "    </tr>\n",
       "    <tr>\n",
       "      <th>3</th>\n",
       "      <td>2002-02-19 00:00:00-05:00</td>\n",
       "      <td>1.666418</td>\n",
       "      <td>1.666418</td>\n",
       "      <td>1.578047</td>\n",
       "      <td>1.607504</td>\n",
       "      <td>7410400</td>\n",
       "      <td>0.0</td>\n",
       "      <td>0.0</td>\n",
       "    </tr>\n",
       "    <tr>\n",
       "      <th>4</th>\n",
       "      <td>2002-02-20 00:00:00-05:00</td>\n",
       "      <td>1.615920</td>\n",
       "      <td>1.662209</td>\n",
       "      <td>1.603295</td>\n",
       "      <td>1.662209</td>\n",
       "      <td>6892800</td>\n",
       "      <td>0.0</td>\n",
       "      <td>0.0</td>\n",
       "    </tr>\n",
       "  </tbody>\n",
       "</table>\n",
       "</div>"
      ],
      "text/plain": [
       "                       Date      Open      High       Low     Close    Volume  \\\n",
       "0 2002-02-13 00:00:00-05:00  1.620128  1.693350  1.603296  1.691667  76216000   \n",
       "1 2002-02-14 00:00:00-05:00  1.712707  1.716074  1.670626  1.683250  11021600   \n",
       "2 2002-02-15 00:00:00-05:00  1.683250  1.687458  1.658001  1.674834   8389600   \n",
       "3 2002-02-19 00:00:00-05:00  1.666418  1.666418  1.578047  1.607504   7410400   \n",
       "4 2002-02-20 00:00:00-05:00  1.615920  1.662209  1.603295  1.662209   6892800   \n",
       "\n",
       "   Dividends  Stock Splits  \n",
       "0        0.0           0.0  \n",
       "1        0.0           0.0  \n",
       "2        0.0           0.0  \n",
       "3        0.0           0.0  \n",
       "4        0.0           0.0  "
      ]
     },
     "execution_count": 36,
     "metadata": {},
     "output_type": "execute_result"
    }
   ],
   "source": [
    "# ========================================================\n",
    "# Question 3: Use yfinance to Extract GameStop Stock Data\n",
    "# ========================================================\n",
    "\n",
    "gme = yf.Ticker(\"GME\")\n",
    "gme_data = gme.history(period=\"max\")\n",
    "\n",
    "gme_data.reset_index(inplace=True)\n",
    "gme_data.head() \n"
   ]
  },
  {
   "cell_type": "code",
   "execution_count": null,
   "id": "54e07030",
   "metadata": {},
   "outputs": [
    {
     "name": "stdout",
     "output_type": "stream",
     "text": [
      "            Date    Open    High     Low   Close       Volume Adj Close\n",
      "65  Jan 01, 2016  109.00  122.18   90.11   91.84  488,193,200     91.84\n",
      "66  Dec 01, 2015  124.47  133.27  113.85  114.38  319,939,200    114.38\n",
      "67  Nov 01, 2015  109.20  126.60  101.86  123.33  320,321,800    123.33\n",
      "68  Oct 01, 2015  102.91  115.83   96.26  108.38  446,204,400    108.38\n",
      "69  Sep 01, 2015  109.35  111.24   93.55  103.26  497,401,200    103.26\n"
     ]
    }
   ],
   "source": [
    "# ========================================================\n",
    "# Question 4: Use Webscraping to Extract GME Revenue Data\n",
    "# ========================================================\n",
    "\n",
    "url_gme = \"https://www.macrotrends.net/stocks/charts/GME/gamestop/revenue\"\n",
    "html_gme = requests.get(url_gme).text\n",
    "soup_gme = BeautifulSoup(html_gme, \"html.parser\")\n",
    "\n",
    "\n",
    "Gamestop_data = pd.DataFrame(columns=[\"Date\", \"Open\", \"High\", \"Low\", \"Close\", \"Volume\"])\n",
    "\n",
    "\n",
    "\n",
    "for row in soup_gme.find(\"tbody\").find_all('tr'):\n",
    "    col = row.find_all(\"td\")\n",
    "    date = col[0].text\n",
    "    Open = col[1].text\n",
    "    high = col[2].text\n",
    "    low = col[3].text\n",
    "    close = col[4].text\n",
    "    adj_close = col[5].text\n",
    "    volume = col[6].text\n",
    "    \n",
    "    # Finally we append the data of each row to the table\n",
    "    Gamestop_data = pd.concat([Gamestop_data,pd.DataFrame({\"Date\":[date], \"Open\":[Open], \"High\":[high], \"Low\":[low], \"Close\":[close], \"Adj Close\":[adj_close], \"Volume\":[volume]})], ignore_index=True)    \n",
    "\n",
    "print(Gamestop_data.tail())\n"
   ]
  },
  {
   "cell_type": "code",
   "execution_count": null,
   "id": "c20079aa",
   "metadata": {},
   "outputs": [],
   "source": [
    "#Define a function to make a graph of stock data\n",
    "\n",
    "def make_graph(stock_data, title):\n",
    "    plt.figure(figsize=(12, 6))\n",
    "    plt.plot(stock_data['Date'], stock_data['Close'], label='Close Price', color='blue')\n",
    "    plt.title(title)\n",
    "    plt.xlabel('Date')\n",
    "    plt.ylabel('Closing Price (USD)')\n",
    "    plt.grid(True)\n",
    "    plt.legend()\n",
    "    plt.tight_layout()\n",
    "    plt.show()"
   ]
  },
  {
   "cell_type": "code",
   "execution_count": null,
   "id": "cdc74aa5",
   "metadata": {},
   "outputs": [
    {
     "data": {
      "image/png": "[encoded data removed]",
      "text/plain": [
       "<Figure size 1200x600 with 1 Axes>"
      ]
     },
     "metadata": {},
     "output_type": "display_data"
    }
   ],
   "source": [
    "# ========================================================\n",
    "# Question 5: Plot Tesla Stock Graph using Plotly\n",
    "# ========================================================\n",
    "make_graph(tsla_data, \"Tesla Stock Price Over Time\")  \n"
   ]
  },
  {
   "cell_type": "code",
   "execution_count": null,
   "id": "d72d4f6a",
   "metadata": {},
   "outputs": [
    {
     "data": {
      "image/png": "[encoded data removed]",
      "text/plain": [
       "<Figure size 1200x600 with 1 Axes>"
      ]
     },
     "metadata": {},
     "output_type": "display_data"
    }
   ],
   "source": [
    "# ========================================================\n",
    "# Question 6: Plot GameStop Stock Graph using Plotly\n",
    "# ========================================================\n",
    "make_graph(gme_data, \"GameStop Stock Price Over Time\")  \n"
   ]
  }
 ],
 "metadata": {
  "kernelspec": {
   "display_name": "EgyptMapenv",
   "language": "python",
   "name": "python3"
  },
  "language_info": {
   "codemirror_mode": {
    "name": "ipython",
    "version": 3
   },
   "file_extension": ".py",
   "mimetype": "text/x-python",
   "name": "python",
   "nbconvert_exporter": "python",
   "pygments_lexer": "ipython3",
   "version": "3.11.9"
  }
 },
 "nbformat": 4,
 "nbformat_minor": 5
}
